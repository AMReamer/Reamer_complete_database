{
 "cells": [
  {
   "cell_type": "markdown",
   "metadata": {},
   "source": [
    "# Set up\n",
    "Uses MySQL.\n",
    "See README.txt to set up database.\n",
    "\n",
    "Run Import MySQL section first before running anything else."
   ]
  },
  {
   "cell_type": "markdown",
   "metadata": {},
   "source": [
    "# Guide\n",
    "Above each section of code is a markdown that explains what that section does.\n",
    "If there are multiple cells, then above each cell there will be information on what that cell does.\n",
    "Often one will be for inputs and the other will be for executing the query.\n",
    "The input cell is required to be run first.\n",
    "\n",
    "When a code block is ran, run it to completion."
   ]
  },
  {
   "cell_type": "markdown",
   "metadata": {},
   "source": [
    "## Import MySQL\n",
    "### Run these to connect to mysql"
   ]
  },
  {
   "cell_type": "markdown",
   "metadata": {},
   "source": [
    "Run this cell if mysql-connector-python not already installed.\n",
    "No problems occur if it is already installed and this is run."
   ]
  },
  {
   "cell_type": "code",
   "execution_count": null,
   "metadata": {},
   "outputs": [],
   "source": [
    "# run if connector not already installed\n",
    "# no error if already satisfied\n",
    "!pip install mysql-connector-python"
   ]
  },
  {
   "cell_type": "markdown",
   "metadata": {},
   "source": [
    "Make the connection with required username and password inputs."
   ]
  },
  {
   "cell_type": "code",
   "execution_count": null,
   "metadata": {},
   "outputs": [],
   "source": [
    "# connects to mysql\n",
    "import mysql.connector\n",
    "\n",
    "# get DB username and password from the standard input\n",
    "import getpass\n",
    "db_user = getpass.getpass('Enter username')\n",
    "db_password = getpass.getpass('Enter password')\n",
    "\n",
    "# prepare the configuration parameters for connecting to database\n",
    "config = {\n",
    "   'user': db_user,\n",
    "   'password': db_password,\n",
    "   'host': 'localhost',\n",
    "   'port': 3306,\n",
    "   'database': 'PlantNursery',\n",
    "   'raise_on_warnings': True                    \n",
    "}\n",
    "\n",
    "#connect to DB server\n",
    "db_connection = mysql.connector.connect(**config)"
   ]
  },
  {
   "cell_type": "markdown",
   "metadata": {},
   "source": [
    "## Load sample data\n",
    "### Load sample data for testing"
   ]
  },
  {
   "cell_type": "code",
   "execution_count": null,
   "metadata": {},
   "outputs": [],
   "source": [
    "cur = db_connection.cursor()\n",
    "# Open and read the file\n",
    "fd = open('aaron_reamer_loadAll.sql', 'r')\n",
    "sqlFile = fd.read()\n",
    "fd.close()\n",
    "# split into individual commands\n",
    "sqlLoads = sqlFile.split(';')\n",
    "del sqlLoads[-1] #delete last empty item\n",
    "# run each\n",
    "for load in sqlLoads:\n",
    "    cur.execute(load)\n",
    "db_connection.commit()\n",
    "cur.close()"
   ]
  },
  {
   "cell_type": "markdown",
   "metadata": {},
   "source": [
    "## Retrieve\n",
    "### Retrieve requested data."
   ]
  },
  {
   "cell_type": "markdown",
   "metadata": {},
   "source": [
    "#### Plants"
   ]
  },
  {
   "cell_type": "code",
   "execution_count": null,
   "metadata": {},
   "outputs": [],
   "source": [
    "cur = db_connection.cursor()\n",
    "query = ('select * from plants')\n",
    "cur.execute(query)\n",
    "out = cur.fetchall()\n",
    "for row in out:\n",
    "    print(row)\n",
    "    print (\"\\n\")\n",
    "    \n",
    "cur.close()  "
   ]
  },
  {
   "cell_type": "markdown",
   "metadata": {},
   "source": [
    "#### Pots"
   ]
  },
  {
   "cell_type": "code",
   "execution_count": null,
   "metadata": {},
   "outputs": [],
   "source": [
    "cur = db_connection.cursor()\n",
    "query = ('select * from pots order by pot_id asc')\n",
    "cur.execute(query)\n",
    "out = cur.fetchall()\n",
    "for row in out:\n",
    "    print(row)\n",
    "    print (\"\\n\")\n",
    "    \n",
    "cur.close()"
   ]
  },
  {
   "cell_type": "markdown",
   "metadata": {},
   "source": [
    "#### Pot Log Entries\n",
    "Orders by pot and then most recent first."
   ]
  },
  {
   "cell_type": "code",
   "execution_count": null,
   "metadata": {},
   "outputs": [],
   "source": [
    "cur = db_connection.cursor()\n",
    "query = ('select * from log_entry order by l_id desc')\n",
    "cur.execute(query)\n",
    "out = cur.fetchall()\n",
    "for row in out:\n",
    "    print(row)\n",
    "    print (\"\\n\")\n",
    "    \n",
    "cur.close()"
   ]
  },
  {
   "cell_type": "markdown",
   "metadata": {},
   "source": [
    "#### Pots with plants"
   ]
  },
  {
   "cell_type": "code",
   "execution_count": null,
   "metadata": {},
   "outputs": [],
   "source": [
    "cur = db_connection.cursor()\n",
    "query = ('select * from (plants natural inner join holds) natural inner join pots order by pot_id asc')\n",
    "cur.execute(query)\n",
    "out = cur.fetchall()\n",
    "for row in out:\n",
    "    print(row)\n",
    "    print (\"\\n\")\n",
    "    \n",
    "cur.close()"
   ]
  },
  {
   "cell_type": "markdown",
   "metadata": {},
   "source": [
    "#### Trays"
   ]
  },
  {
   "cell_type": "code",
   "execution_count": null,
   "metadata": {},
   "outputs": [],
   "source": [
    "cur = db_connection.cursor()\n",
    "query = ('select * from tray order by tray_id asc')\n",
    "cur.execute(query)\n",
    "out = cur.fetchall()\n",
    "for row in out:\n",
    "    print(row)\n",
    "    print (\"\\n\")\n",
    "    \n",
    "cur.close()"
   ]
  },
  {
   "cell_type": "markdown",
   "metadata": {},
   "source": [
    "#### Trays with pots"
   ]
  },
  {
   "cell_type": "code",
   "execution_count": null,
   "metadata": {},
   "outputs": [],
   "source": [
    "cur = db_connection.cursor()\n",
    "query = ('select * from (pots natural inner join containing) natural inner join tray order by tray_id asc')\n",
    "cur.execute(query)\n",
    "out = cur.fetchall()\n",
    "for row in out:\n",
    "    print(row)\n",
    "    print (\"\\n\")\n",
    "    \n",
    "cur.close()"
   ]
  },
  {
   "cell_type": "markdown",
   "metadata": {},
   "source": [
    "#### Weather stations"
   ]
  },
  {
   "cell_type": "code",
   "execution_count": null,
   "metadata": {},
   "outputs": [],
   "source": [
    "cur = db_connection.cursor()\n",
    "query = ('select * from micro_weather_station tray order by station_id asc')\n",
    "cur.execute(query)\n",
    "out = cur.fetchall()\n",
    "for row in out:\n",
    "    print(row)\n",
    "    print (\"\\n\")\n",
    "    \n",
    "cur.close()"
   ]
  },
  {
   "cell_type": "markdown",
   "metadata": {},
   "source": [
    "#### Measurements"
   ]
  },
  {
   "cell_type": "code",
   "execution_count": null,
   "metadata": {},
   "outputs": [],
   "source": [
    "cur = db_connection.cursor()\n",
    "query = ('select * from measurements order by station_id asc')\n",
    "cur.execute(query)\n",
    "out = cur.fetchall()\n",
    "for row in out:\n",
    "    print(row)\n",
    "    print (\"\\n\")\n",
    "\n",
    "db_connection.commit()\n",
    "cur.close()"
   ]
  },
  {
   "cell_type": "markdown",
   "metadata": {},
   "source": [
    "## Insert and Update\n",
    "Each section below contains an input section, an insert section, and an update section.\n",
    "Does not include log entries or measurements which are covered separately.\n",
    "\n",
    "input: inputs for all data\n",
    "\n",
    "insert: will insert the input data\n",
    "\n",
    "update: will update one variable at a time based on separate inputs"
   ]
  },
  {
   "cell_type": "markdown",
   "metadata": {},
   "source": [
    "### Plants"
   ]
  },
  {
   "cell_type": "markdown",
   "metadata": {},
   "source": [
    "#### input"
   ]
  },
  {
   "cell_type": "code",
   "execution_count": null,
   "metadata": {},
   "outputs": [],
   "source": [
    "c_name = '\"'+input(\"common name: \")+'\"'\n",
    "spec = '\"'+input(\"species: \")+'\"'\n",
    "vri = '\"'+input(\"variety: \")+'\"'\n",
    "pt = '\"'+input(\"plant type: \")+'\"'\n",
    "ret = '\"'+input(\"retention: \")+'\"'\n",
    "ger = input(\"germination days: \")\n",
    "fd = input(\"required food: \")\n",
    "wt = input(\"required water: \")\n",
    "temp = input(\"temperature: \")\n",
    "mois = input(\"moisture: \")\n",
    "lig = input(\"light: \")\n",
    "desc = input(\"description: \")"
   ]
  },
  {
   "cell_type": "markdown",
   "metadata": {},
   "source": [
    "#### insert"
   ]
  },
  {
   "cell_type": "code",
   "execution_count": null,
   "metadata": {},
   "outputs": [],
   "source": [
    "cur = db_connection.cursor()\n",
    "query = 'insert into plants values({},{},{},{},{},{},{},{},{},{},{},{})'.format(c_name, spec, vri, pt, ret, ger, fd, wt, temp, mois, lig, desc)\n",
    "cur.execute(query)\n",
    "db_connection.commit()\n",
    "cur.close()"
   ]
  },
  {
   "cell_type": "markdown",
   "metadata": {},
   "source": [
    "#### update\n",
    "Also used for relocating"
   ]
  },
  {
   "cell_type": "code",
   "execution_count": null,
   "metadata": {},
   "outputs": [],
   "source": [
    "print(\"Input the common name of what you would like to update:\")\n",
    "p_id = '\"'+input(\"common name: \")+'\"'\n",
    "print(\"Input variable you would like to update.\\noptions:\")\n",
    "print(\"common_name\")\n",
    "print(\"species\")\n",
    "print(\"variety\")\n",
    "print(\"p_type\")\n",
    "print(\"retention\")\n",
    "print(\"germination_days\")\n",
    "print(\"feed\")\n",
    "print(\"water\")\n",
    "print(\"temperature\")\n",
    "print(\"moisture\")\n",
    "print(\"light\")\n",
    "print(\"descript\")\n",
    "set_up = input(\"variable: \")\n",
    "print(\"Input the change:\")\n",
    "change = input(\"change: \")\n",
    "#account for string\n",
    "if set_up == \"common_name\" or set_up == \"species\" or set_up == \"variety\" or set_up == \"p_type\" or set_up == \"retention\":\n",
    "    change = '\"'+change+'\"'\n",
    "    \n",
    "#update\n",
    "cur = db_connection.cursor()\n",
    "query = 'update plants set {} = {} where common_name = {}'.format(set_up,change,p_id)\n",
    "cur.execute(query)\n",
    "db_connection.commit()\n",
    "cur.close()"
   ]
  },
  {
   "cell_type": "markdown",
   "metadata": {},
   "source": [
    "### Pots"
   ]
  },
  {
   "cell_type": "markdown",
   "metadata": {},
   "source": [
    "#### input"
   ]
  },
  {
   "cell_type": "code",
   "execution_count": null,
   "metadata": {},
   "outputs": [],
   "source": [
    "potId = '\"'+input(\"pot ID (8 characters): \")+'\"'\n",
    "vol = input(\"volume: \")\n",
    "height = input(\"height: \")"
   ]
  },
  {
   "cell_type": "markdown",
   "metadata": {},
   "source": [
    "#### insert"
   ]
  },
  {
   "cell_type": "code",
   "execution_count": null,
   "metadata": {},
   "outputs": [],
   "source": [
    "cur = db_connection.cursor()\n",
    "query = 'insert into pots values({},{},{})'.format(potId, vol, height)\n",
    "cur.execute(query)\n",
    "db_connection.commit()\n",
    "cur.close()"
   ]
  },
  {
   "cell_type": "markdown",
   "metadata": {},
   "source": [
    "#### update"
   ]
  },
  {
   "cell_type": "code",
   "execution_count": null,
   "metadata": {},
   "outputs": [],
   "source": [
    "print(\"Input the pot ID of what you would like to update:\")\n",
    "pt_id = '\"'+input(\"pot ID: \")+'\"'\n",
    "print(\"Input variable you would like to update.\\noptions:\")\n",
    "print(\"pot_id\")\n",
    "print(\"volume\")\n",
    "print(\"height\")\n",
    "pset_up = input(\"variable: \")\n",
    "print(\"Input the change:\")\n",
    "pchange = input(\"change: \")\n",
    "if pset_up == \"pot_id\":\n",
    "    pchange = '\"'+pchange+'\"'\n",
    "    \n",
    "#update\n",
    "cur = db_connection.cursor()\n",
    "query = 'update pots set {} = {} where pot_id = {}'.format(pset_up,pchange,pt_id)\n",
    "cur.execute(query)\n",
    "db_connection.commit()\n",
    "cur.close()"
   ]
  },
  {
   "cell_type": "markdown",
   "metadata": {},
   "source": [
    "### Trays"
   ]
  },
  {
   "cell_type": "markdown",
   "metadata": {},
   "source": [
    "#### input"
   ]
  },
  {
   "cell_type": "code",
   "execution_count": null,
   "metadata": {},
   "outputs": [],
   "source": [
    "trayId = '\"'+input(\"tray ID (8 characters): \")+'\"'\n",
    "locx = input(\"location x: \")\n",
    "locy = input(\"location y: \")"
   ]
  },
  {
   "cell_type": "markdown",
   "metadata": {},
   "source": [
    "#### insert"
   ]
  },
  {
   "cell_type": "code",
   "execution_count": null,
   "metadata": {},
   "outputs": [],
   "source": [
    "cur = db_connection.cursor()\n",
    "query = 'insert into tray values({},point({},{}), current_time)'.format(trayId, locx, locy)\n",
    "cur.execute(query)\n",
    "db_connection.commit()\n",
    "cur.close()"
   ]
  },
  {
   "cell_type": "markdown",
   "metadata": {},
   "source": [
    "#### update\n",
    "Also used for relocating"
   ]
  },
  {
   "cell_type": "code",
   "execution_count": null,
   "metadata": {},
   "outputs": [],
   "source": [
    "print(\"Input the tray ID of what you would like to update:\")\n",
    "pt_id = '\"'+input(\"tray ID: \")+'\"'\n",
    "print(\"Input variable you would like to update.\\noptions:\")\n",
    "print(\"tray_id\")\n",
    "print(\"location\\t(format: x,y)\") # relocating tray\n",
    "print(\"timestamp\\t(format: YYYY-MM-DD hh:mm:ss)\")\n",
    "pset_up = input(\"variable: \")\n",
    "print(\"Input the change:\")\n",
    "pchange = input(\"change: \")\n",
    "if pset_up == \"tray_id\" or pset_up == \"timestamp\":\n",
    "    pchange = '\"'+pchange+'\"'\n",
    "elif pset_up == \"location\":\n",
    "    pchange = \"point(\"+pchange+\")\"\n",
    "    \n",
    "#update\n",
    "cur = db_connection.cursor()\n",
    "query = 'update tray set {} = {} where tray_id = {}'.format(pset_up,pchange,pt_id)\n",
    "cur.execute(query)\n",
    "db_connection.commit()\n",
    "cur.close()"
   ]
  },
  {
   "cell_type": "markdown",
   "metadata": {},
   "source": [
    "### Weather Stations"
   ]
  },
  {
   "cell_type": "markdown",
   "metadata": {},
   "source": [
    "#### input"
   ]
  },
  {
   "cell_type": "code",
   "execution_count": null,
   "metadata": {},
   "outputs": [],
   "source": [
    "staId = '\"'+input(\"station ID (8 characters): \")+'\"'\n",
    "locx = input(\"location x: \")\n",
    "locy = input(\"location y: \")"
   ]
  },
  {
   "cell_type": "markdown",
   "metadata": {},
   "source": [
    "#### insert"
   ]
  },
  {
   "cell_type": "code",
   "execution_count": null,
   "metadata": {},
   "outputs": [],
   "source": [
    "cur = db_connection.cursor()\n",
    "query = 'insert into micro_weather_station values({},point({},{}))'.format(staId, locx, locy)\n",
    "cur.execute(query)\n",
    "db_connection.commit()\n",
    "cur.close()"
   ]
  },
  {
   "cell_type": "markdown",
   "metadata": {},
   "source": [
    "#### update"
   ]
  },
  {
   "cell_type": "code",
   "execution_count": null,
   "metadata": {},
   "outputs": [],
   "source": [
    "print(\"Input the station ID of what you would like to update:\")\n",
    "pt_id = '\"'+input(\"station ID: \")+'\"'\n",
    "print(\"Input variable you would like to update.\\noptions:\")\n",
    "print(\"station_id\")\n",
    "print(\"location\\t(format: x,y)\") #relocating station\n",
    "pset_up = input(\"variable: \")\n",
    "print(\"Input the change:\")\n",
    "pchange = input(\"change: \")\n",
    "if pset_up == \"tray_id\" or pset_up == \"timestamp\":\n",
    "    pchange = '\"'+pchange+'\"'\n",
    "elif pset_up == \"location\":\n",
    "    pchange = \"point(\"+pchange+\")\"\n",
    "    \n",
    "#update\n",
    "cur = db_connection.cursor()\n",
    "query = 'update micro_weather_station set {} = {} where station_id = {}'.format(pset_up,pchange,pt_id)\n",
    "cur.execute(query)\n",
    "db_connection.commit()\n",
    "cur.close()"
   ]
  },
  {
   "cell_type": "markdown",
   "metadata": {},
   "source": [
    "## Delete\n",
    "Delete entries based off inputs"
   ]
  },
  {
   "cell_type": "markdown",
   "metadata": {},
   "source": [
    "### Plants"
   ]
  },
  {
   "cell_type": "code",
   "execution_count": null,
   "metadata": {},
   "outputs": [],
   "source": [
    "print(\"Input identifier to delete:\")\n",
    "del_id = '\"'+input(\"common name: \")+'\"'\n",
    "cur = db_connection.cursor()\n",
    "query = 'delete from plants where common_name = {}'.format(del_id)\n",
    "cur.execute(query)\n",
    "db_connection.commit()\n",
    "cur.close()"
   ]
  },
  {
   "cell_type": "markdown",
   "metadata": {},
   "source": [
    "### Pots and their logs"
   ]
  },
  {
   "cell_type": "code",
   "execution_count": null,
   "metadata": {},
   "outputs": [],
   "source": [
    "print(\"Input identifier to delete:\")\n",
    "del_id = '\"'+input(\"pot ID: \")+'\"'\n",
    "cur = db_connection.cursor()\n",
    "query = 'delete from pots where pot_id = {}'.format(del_id)\n",
    "cur.execute(query)\n",
    "query = 'delete from log_entry where pot_id = {}'.format(del_id)\n",
    "cur.execute(query)\n",
    "db_connection.commit()\n",
    "cur.close()"
   ]
  },
  {
   "cell_type": "markdown",
   "metadata": {},
   "source": [
    "### Trays"
   ]
  },
  {
   "cell_type": "code",
   "execution_count": null,
   "metadata": {},
   "outputs": [],
   "source": [
    "print(\"Input identifier to delete:\")\n",
    "del_id = '\"'+input(\"tray ID: \")+'\"'\n",
    "cur = db_connection.cursor()\n",
    "query = 'delete from tray where tray_id = {}'.format(del_id)\n",
    "cur.execute(query)\n",
    "db_connection.commit()\n",
    "cur.close()"
   ]
  },
  {
   "cell_type": "markdown",
   "metadata": {},
   "source": [
    "### Weather stations and their measurements"
   ]
  },
  {
   "cell_type": "code",
   "execution_count": null,
   "metadata": {},
   "outputs": [],
   "source": [
    "print(\"Input identifier to delete:\")\n",
    "del_id = '\"'+input(\"station ID: \")+'\"'\n",
    "cur = db_connection.cursor()\n",
    "query = 'delete from micro_weather_station where station_id = {}'.format(del_id)\n",
    "cur.execute(query)\n",
    "db_connection.commit()\n",
    "cur.close()"
   ]
  },
  {
   "cell_type": "markdown",
   "metadata": {},
   "source": [
    "## Plant in Pot\n",
    "Plant a plant into a pot."
   ]
  },
  {
   "cell_type": "code",
   "execution_count": null,
   "metadata": {},
   "outputs": [],
   "source": [
    "ptId = '\"'+input(\"Pot ID: \")+'\"'\n",
    "plCN = '\"'+input(\"Plant Common Name: \")+'\"'\n",
    "print(\"Date. Input 'CD' current Date.\\nFormat YYYY-MM-DD\")\n",
    "pDate = '\"'+input(\"Date: \")+'\"'\n",
    "\n",
    "if pDate == '\"CD\"':\n",
    "    pDate = \"curdate()\"\n",
    "\n",
    "cur = db_connection.cursor()\n",
    "query = 'call insert_holds({}, {}, {});'.format(ptId, plCN, pDate)\n",
    "cur.execute(query)\n",
    "db_connection.commit()\n",
    "cur.close()"
   ]
  },
  {
   "cell_type": "markdown",
   "metadata": {},
   "source": [
    "## Empty Pot\n",
    "Remove plant from a pot."
   ]
  },
  {
   "cell_type": "code",
   "execution_count": null,
   "metadata": {},
   "outputs": [],
   "source": [
    "ptId = '\"'+input(\"Pot ID: \")+'\"'\n",
    "\n",
    "cur = db_connection.cursor()\n",
    "query = 'delete from pots where pot_id = {}'.format(ptId)\n",
    "cur.execute(query)\n",
    "db_connection.commit()\n",
    "cur.close()"
   ]
  },
  {
   "cell_type": "markdown",
   "metadata": {},
   "source": [
    "## Move a pot to a tray\n",
    "Moves a pot to a tray. Will not move it if tray is full. Also used for inserting pots that don't have a tray."
   ]
  },
  {
   "cell_type": "code",
   "execution_count": null,
   "metadata": {},
   "outputs": [],
   "source": [
    "ptId = '\"'+input(\"Pot ID: \")+'\"'\n",
    "trId = '\"'+input(\"Tray ID: \")+'\"'\n",
    "\n",
    "cur = db_connection.cursor()\n",
    "query = 'call move_pot({}, {});'.format(trId,ptId)\n",
    "cur.execute(query)\n",
    "db_connection.commit()\n",
    "cur.close()"
   ]
  },
  {
   "cell_type": "markdown",
   "metadata": {},
   "source": [
    "## Remove a pot from a tray"
   ]
  },
  {
   "cell_type": "code",
   "execution_count": null,
   "metadata": {},
   "outputs": [],
   "source": [
    "potId = '\"'+input(\"Pot ID: \")+'\"'\n",
    "\n",
    "cur = db_connection.cursor()\n",
    "query = 'call remove_pot({});'.format(potId)\n",
    "cur.execute(query)\n",
    "db_connection.commit()\n",
    "cur.close()"
   ]
  },
  {
   "cell_type": "markdown",
   "metadata": {},
   "source": [
    "## Take Measurement"
   ]
  },
  {
   "cell_type": "code",
   "execution_count": null,
   "metadata": {},
   "outputs": [],
   "source": [
    "sId = '\"'+input(\"Station ID: \")+'\"'\n",
    "print(\"Format: YYYY-MM-DD hh:mm:ss\\nLeave blank for current time.\")\n",
    "tm = '\"'+input(\"Timestamp: \")+'\"'\n",
    "tem = input(\"Temperature: \")\n",
    "mos = input(\"Moisture: \")\n",
    "lt = input(\"Ambient Light: \")\n",
    "\n",
    "if tm == '\"\"':\n",
    "    tm = \"CURRENT_TIMESTAMP\"\n",
    "\n",
    "cur = db_connection.cursor()\n",
    "query = 'call take_measurement({}, {}, {}, {}, {});'.format(sId, tm, tem, mos, lt)\n",
    "cur.execute(query)\n",
    "db_connection.commit()\n",
    "cur.close()"
   ]
  },
  {
   "cell_type": "markdown",
   "metadata": {},
   "source": [
    "## Care for individual pot\n",
    "Cares for a pot and adds a log entry"
   ]
  },
  {
   "cell_type": "code",
   "execution_count": null,
   "metadata": {},
   "outputs": [],
   "source": [
    "potId = '\"'+input(\"Pot ID: \")+'\"'\n",
    "print(\"Format: YYYY-MM-DD hh:mm:ss\\nLeave blank for current time.\")\n",
    "tm = '\"'+input(\"Timestamp: \")+'\"'\n",
    "fd = input(\"Food: \")\n",
    "wt = input(\"Water: \")\n",
    "\n",
    "if tm == '\"\"':\n",
    "    tm = \"CURRENT_TIMESTAMP\"\n",
    "\n",
    "cur = db_connection.cursor()\n",
    "query = 'call record_log({}, {}, {}, {});'.format(potId, tm, fd, wt)\n",
    "cur.execute(query)\n",
    "db_connection.commit()\n",
    "cur.close()"
   ]
  },
  {
   "cell_type": "markdown",
   "metadata": {},
   "source": [
    "## Care for entire tray\n",
    "Cares for all pots in a tray and adds appropriate log entry.\n",
    "Feeds and waters all pots in a tray."
   ]
  },
  {
   "cell_type": "code",
   "execution_count": null,
   "metadata": {},
   "outputs": [],
   "source": [
    "trayId = '\"'+input(\"Tray ID: \")+'\"'\n",
    "print(\"Format: YYYY-MM-DD hh:mm:ss\\nLeave blank for current time.\")\n",
    "tm = '\"'+input(\"Timestamp: \")+'\"'\n",
    "fd = input(\"Food: \")\n",
    "wt = input(\"Water: \")\n",
    "\n",
    "if tm == '\"\"':\n",
    "    tm = \"CURRENT_TIMESTAMP\"\n",
    "\n",
    "cur = db_connection.cursor()\n",
    "query = 'call tray_care({}, {}, {}, {});'.format(trayId, tm, fd, wt)\n",
    "cur.execute(query)\n",
    "db_connection.commit()\n",
    "cur.close()"
   ]
  },
  {
   "cell_type": "markdown",
   "metadata": {},
   "source": [
    "## Special queries\n",
    "special queries for this assignment"
   ]
  },
  {
   "cell_type": "markdown",
   "metadata": {},
   "source": [
    "List the unique common names of all thevegetables currently planted."
   ]
  },
  {
   "cell_type": "code",
   "execution_count": null,
   "metadata": {},
   "outputs": [],
   "source": [
    "cur = db_connection.cursor()\n",
    "query = ('call vegetables_planted();')\n",
    "cur.execute(query)\n",
    "out = cur.fetchall()\n",
    "for row in out:\n",
    "    print(row)\n",
    "    print (\"\\n\")\n",
    "    \n",
    "cur.close()  "
   ]
  },
  {
   "cell_type": "markdown",
   "metadata": {},
   "source": [
    "List the species name and number of varieties for each plant species for all the plants."
   ]
  },
  {
   "cell_type": "code",
   "execution_count": null,
   "metadata": {},
   "outputs": [],
   "source": [
    "cur = db_connection.cursor()\n",
    "query = ('call num_varieties();')\n",
    "cur.execute(query)\n",
    "out = cur.fetchall()\n",
    "for row in out:\n",
    "    print(row)\n",
    "    print (\"\\n\")\n",
    "    \n",
    "cur.close() "
   ]
  },
  {
   "cell_type": "markdown",
   "metadata": {},
   "source": [
    "Find the total number of pots currently holding a plant with a given common name."
   ]
  },
  {
   "cell_type": "code",
   "execution_count": null,
   "metadata": {},
   "outputs": [],
   "source": [
    "cn = '\"'+input(\"Common Name: \")+'\"'\n",
    "\n",
    "cur = db_connection.cursor()\n",
    "query = ('call pots_with({});').format(cn)\n",
    "cur.execute(query)\n",
    "out = cur.fetchall()\n",
    "for row in out:\n",
    "    print(row)\n",
    "    print (\"\\n\")\n",
    "    \n",
    "cur.close() "
   ]
  },
  {
   "cell_type": "markdown",
   "metadata": {},
   "source": [
    "Find the histogram (value and count) of volumes of pots with germinated plants with a given common name."
   ]
  },
  {
   "cell_type": "code",
   "execution_count": null,
   "metadata": {},
   "outputs": [],
   "source": [
    "cn = '\"'+input(\"Common Name: \")+'\"'\n",
    "\n",
    "cur = db_connection.cursor()\n",
    "query = ('call volume_histogram({});').format(cn)\n",
    "cur.execute(query)\n",
    "out = cur.fetchall()\n",
    "for row in out:\n",
    "    print(row)\n",
    "    print (\"\\n\")\n",
    "    \n",
    "cur.close() "
   ]
  },
  {
   "cell_type": "markdown",
   "metadata": {},
   "source": [
    "Find the most populous species among the pots with germinated plants."
   ]
  },
  {
   "cell_type": "code",
   "execution_count": null,
   "metadata": {},
   "outputs": [],
   "source": [
    "cur = db_connection.cursor()\n",
    "query = ('call most_germinated();')\n",
    "cur.execute(query)\n",
    "out = cur.fetchall()\n",
    "for row in out:\n",
    "    print(row)\n",
    "    print (\"\\n\")\n",
    "    \n",
    "cur.close() "
   ]
  },
  {
   "cell_type": "markdown",
   "metadata": {},
   "source": [
    "Find the oldest (in terms of current age) vegetable plant(s) among those that germinated during the previous month."
   ]
  },
  {
   "cell_type": "code",
   "execution_count": null,
   "metadata": {},
   "outputs": [],
   "source": [
    "cur = db_connection.cursor()\n",
    "query = ('call last_month_oldest();')\n",
    "cur.execute(query)\n",
    "out = cur.fetchall()\n",
    "for row in out:\n",
    "    print(row)\n",
    "    print (\"\\n\")\n",
    "    \n",
    "cur.close() "
   ]
  },
  {
   "cell_type": "markdown",
   "metadata": {},
   "source": [
    "Find the germinated plant(s) that received the most daily water (averaged over their age)."
   ]
  },
  {
   "cell_type": "code",
   "execution_count": null,
   "metadata": {},
   "outputs": [],
   "source": [
    "cur = db_connection.cursor()\n",
    "query = ('call most_daily_water();')\n",
    "cur.execute(query)\n",
    "out = cur.fetchall()\n",
    "for row in out:\n",
    "    print(row)\n",
    "    print (\"\\n\")\n",
    "    \n",
    "cur.close() "
   ]
  },
  {
   "cell_type": "markdown",
   "metadata": {},
   "source": [
    "Find the number of planted herbs that received more food than the average amount of food received by the germinated vegetables."
   ]
  },
  {
   "cell_type": "code",
   "execution_count": null,
   "metadata": {},
   "outputs": [],
   "source": [
    "cur = db_connection.cursor()\n",
    "query = ('call food_much();')\n",
    "cur.execute(query)\n",
    "out = cur.fetchall()\n",
    "for row in out:\n",
    "    print(row)\n",
    "    print (\"\\n\")\n",
    "    \n",
    "cur.close() "
   ]
  },
  {
   "cell_type": "markdown",
   "metadata": {},
   "source": [
    "Find the germinated flowers that received more dailyambient light in a given month than the previous month."
   ]
  },
  {
   "cell_type": "code",
   "execution_count": null,
   "metadata": {},
   "outputs": [],
   "source": [
    "month = input(\"Month: \")\n",
    "\n",
    "cur = db_connection.cursor()\n",
    "query = ('call month_more_light({});').format(month)\n",
    "cur.execute(query)\n",
    "out = cur.fetchall()\n",
    "for row in out:\n",
    "    print(row)\n",
    "    print (\"\\n\")\n",
    "    \n",
    "cur.close() "
   ]
  },
  {
   "cell_type": "markdown",
   "metadata": {},
   "source": [
    "## Drop All\n",
    "### Drops entire Database"
   ]
  },
  {
   "cell_type": "code",
   "execution_count": null,
   "metadata": {},
   "outputs": [],
   "source": [
    "cur = db_connection.cursor()\n",
    "# Open and read the file\n",
    "fd = open('aaron_reamer_dropAll.sql', 'r')\n",
    "sqlFile = fd.read()\n",
    "fd.close()\n",
    "# split into individual commands\n",
    "sqlDrops = sqlFile.split(';')\n",
    "# run each\n",
    "for drop in sqlDrops:\n",
    "    cur.execute(drop)\n",
    "    \n",
    "cur.close()"
   ]
  },
  {
   "cell_type": "markdown",
   "metadata": {},
   "source": [
    "## Close Connection\n",
    "### Do this before exiting."
   ]
  },
  {
   "cell_type": "code",
   "execution_count": null,
   "metadata": {},
   "outputs": [],
   "source": [
    "db_connection.close()"
   ]
  },
  {
   "cell_type": "code",
   "execution_count": null,
   "metadata": {},
   "outputs": [],
   "source": []
  }
 ],
 "metadata": {
  "kernelspec": {
   "display_name": "Python 3",
   "language": "python",
   "name": "python3"
  },
  "language_info": {
   "codemirror_mode": {
    "name": "ipython",
    "version": 3
   },
   "file_extension": ".py",
   "mimetype": "text/x-python",
   "name": "python",
   "nbconvert_exporter": "python",
   "pygments_lexer": "ipython3",
   "version": "3.7.1"
  }
 },
 "nbformat": 4,
 "nbformat_minor": 2
}
